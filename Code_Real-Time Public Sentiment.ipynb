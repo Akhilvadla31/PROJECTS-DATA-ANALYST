{
 "cells": [
  {
   "cell_type": "code",
   "execution_count": 3,
   "id": "7c216f03-9652-4d1c-9b89-b21892d97d7a",
   "metadata": {},
   "outputs": [
    {
     "name": "stdout",
     "output_type": "stream",
     "text": [
      "Collecting tweepy\n",
      "  Downloading tweepy-4.15.0-py3-none-any.whl.metadata (4.1 kB)\n",
      "Requirement already satisfied: pandas in c:\\users\\akhil\\anaconda3\\lib\\site-packages (2.2.2)\n",
      "Requirement already satisfied: nltk in c:\\users\\akhil\\anaconda3\\lib\\site-packages (3.9.1)\n",
      "Collecting textblob\n",
      "  Downloading textblob-0.19.0-py3-none-any.whl.metadata (4.4 kB)\n",
      "Collecting oauthlib<4,>=3.2.0 (from tweepy)\n",
      "  Downloading oauthlib-3.2.2-py3-none-any.whl.metadata (7.5 kB)\n",
      "Requirement already satisfied: requests<3,>=2.27.0 in c:\\users\\akhil\\anaconda3\\lib\\site-packages (from tweepy) (2.32.3)\n",
      "Collecting requests-oauthlib<3,>=1.2.0 (from tweepy)\n",
      "  Downloading requests_oauthlib-2.0.0-py2.py3-none-any.whl.metadata (11 kB)\n",
      "Requirement already satisfied: numpy>=1.26.0 in c:\\users\\akhil\\anaconda3\\lib\\site-packages (from pandas) (1.26.4)\n",
      "Requirement already satisfied: python-dateutil>=2.8.2 in c:\\users\\akhil\\anaconda3\\lib\\site-packages (from pandas) (2.9.0.post0)\n",
      "Requirement already satisfied: pytz>=2020.1 in c:\\users\\akhil\\anaconda3\\lib\\site-packages (from pandas) (2024.1)\n",
      "Requirement already satisfied: tzdata>=2022.7 in c:\\users\\akhil\\anaconda3\\lib\\site-packages (from pandas) (2023.3)\n",
      "Requirement already satisfied: click in c:\\users\\akhil\\anaconda3\\lib\\site-packages (from nltk) (8.1.7)\n",
      "Requirement already satisfied: joblib in c:\\users\\akhil\\anaconda3\\lib\\site-packages (from nltk) (1.4.2)\n",
      "Requirement already satisfied: regex>=2021.8.3 in c:\\users\\akhil\\anaconda3\\lib\\site-packages (from nltk) (2024.9.11)\n",
      "Requirement already satisfied: tqdm in c:\\users\\akhil\\anaconda3\\lib\\site-packages (from nltk) (4.66.5)\n",
      "Requirement already satisfied: six>=1.5 in c:\\users\\akhil\\anaconda3\\lib\\site-packages (from python-dateutil>=2.8.2->pandas) (1.16.0)\n",
      "Requirement already satisfied: charset-normalizer<4,>=2 in c:\\users\\akhil\\anaconda3\\lib\\site-packages (from requests<3,>=2.27.0->tweepy) (3.3.2)\n",
      "Requirement already satisfied: idna<4,>=2.5 in c:\\users\\akhil\\anaconda3\\lib\\site-packages (from requests<3,>=2.27.0->tweepy) (3.7)\n",
      "Requirement already satisfied: urllib3<3,>=1.21.1 in c:\\users\\akhil\\anaconda3\\lib\\site-packages (from requests<3,>=2.27.0->tweepy) (2.2.3)\n",
      "Requirement already satisfied: certifi>=2017.4.17 in c:\\users\\akhil\\anaconda3\\lib\\site-packages (from requests<3,>=2.27.0->tweepy) (2024.8.30)\n",
      "Requirement already satisfied: colorama in c:\\users\\akhil\\anaconda3\\lib\\site-packages (from click->nltk) (0.4.6)\n",
      "Downloading tweepy-4.15.0-py3-none-any.whl (99 kB)\n",
      "Downloading textblob-0.19.0-py3-none-any.whl (624 kB)\n",
      "   ---------------------------------------- 0.0/624.3 kB ? eta -:--:--\n",
      "   ---------------------------------------- 624.3/624.3 kB 2.9 MB/s eta 0:00:00\n",
      "Downloading oauthlib-3.2.2-py3-none-any.whl (151 kB)\n",
      "Downloading requests_oauthlib-2.0.0-py2.py3-none-any.whl (24 kB)\n",
      "Installing collected packages: oauthlib, requests-oauthlib, tweepy, textblob\n",
      "Successfully installed oauthlib-3.2.2 requests-oauthlib-2.0.0 textblob-0.19.0 tweepy-4.15.0\n"
     ]
    }
   ],
   "source": [
    "!pip install tweepy pandas nltk textblob\n",
    "\n"
   ]
  },
  {
   "cell_type": "code",
   "execution_count": 7,
   "id": "c4e2a551-938e-48ab-b712-947f73b8689a",
   "metadata": {},
   "outputs": [],
   "source": [
    "import tweepy\n",
    "import pandas as pd\n",
    "from textblob import TextBlob\n",
    "import re"
   ]
  },
  {
   "cell_type": "code",
   "execution_count": 9,
   "id": "59f5b847-5273-405c-802c-4fe4518e358c",
   "metadata": {},
   "outputs": [],
   "source": [
    "# --- CONFIG --- #\n",
    "BEARER_TOKEN = 'AAAAAAAAAAAAAAAAAAAAAD9K1AEAAAAALnVAaQD2ZEID6ExN73IM6IBV3jY%3DAQ7qhaowdJdPWLaiq5166W1nzvyvg3mENjWn8XBzs50ZhGoNna'  # 🔒 Replace with your actual token\n",
    "client = tweepy.Client(bearer_token=BEARER_TOKEN)\n",
    "query = \"Zomato -is:retweet lang:en\""
   ]
  },
  {
   "cell_type": "code",
   "execution_count": 11,
   "id": "61953abe-996b-444a-a3ef-492576fef5fa",
   "metadata": {},
   "outputs": [],
   "source": [
    "# --- UTILITY FUNCTIONS --- #\n",
    "def clean_text(text):\n",
    "    text = re.sub(r\"http\\S+|@\\S+|#\\S+|[^A-Za-z0-9 ]+\", '', text)\n",
    "    return text.lower()"
   ]
  },
  {
   "cell_type": "code",
   "execution_count": 15,
   "id": "7a37de63-3a10-4795-91cd-4c657c5ecf28",
   "metadata": {},
   "outputs": [],
   "source": [
    "def get_sentiment(text):\n",
    "    polarity = TextBlob(text).sentiment.polarity\n",
    "    return 'Positive' if polarity > 0 else 'Negative' if polarity < 0 else 'Neutral'\n"
   ]
  },
  {
   "cell_type": "code",
   "execution_count": 19,
   "id": "3e84ce52-63c4-47bd-b06f-eff3eadc3718",
   "metadata": {},
   "outputs": [
    {
     "name": "stdout",
     "output_type": "stream",
     "text": [
      "✅ Done! Data saved to zomato_sentiments.csv\n"
     ]
    }
   ],
   "source": [
    "# --- MAIN FUNCTION --- #\n",
    "def fetch_tweets():\n",
    "    try:\n",
    "        tweets = client.search_recent_tweets(query=query, max_results=20)\n",
    "\n",
    "        results = []\n",
    "        for tweet in tweets.data:\n",
    "            original = tweet.text\n",
    "            cleaned = clean_text(original)\n",
    "            sentiment = get_sentiment(cleaned)\n",
    "            results.append([original, cleaned, sentiment])\n",
    "\n",
    "        df = pd.DataFrame(results, columns=['Original', 'Cleaned', 'Sentiment'])\n",
    "        df.to_csv('zomato_sentiments.csv', index=False)\n",
    "        print(\"✅ Done! Data saved to zomato_sentiments.csv\")\n",
    "\n",
    "    except tweepy.TooManyRequests:\n",
    "        print(\"⏳ Rate limit hit! Waiting for 15 minutes...\")\n",
    "        time.sleep(15 * 60)\n",
    "        fetch_tweets()  # Retry after cooldown\n",
    "\n",
    "    except Exception as e:\n",
    "        print(\"❌ An error occurred:\", e)\n",
    "\n",
    "# --- RUN SCRIPT --- #\n",
    "if __name__ == \"__main__\":\n",
    "    fetch_tweets()"
   ]
  },
  {
   "cell_type": "code",
   "execution_count": 27,
   "id": "7cd9680d-59c1-4dbf-a2a1-7216ae4acb8b",
   "metadata": {},
   "outputs": [
    {
     "name": "stdout",
     "output_type": "stream",
     "text": [
      "                                            Original  \\\n",
      "0  When is @Swiggy and @zomato going to care that...   \n",
      "1  @zomatocare Why don't you just mention it here...   \n",
      "2  @ishanjoshii @RCBTweets Ye Zomato Wale kya kar...   \n",
      "3  @sushilkedia @Swiggy @zomato Reliance Jiomart ...   \n",
      "4  @verynecessiri @zomato @zomatocare Zomato cust...   \n",
      "\n",
      "                                             Cleaned Sentiment  \n",
      "0  when is  and  going to care that its not alway...  Negative  \n",
      "1   why dont you just mention it here or is there...   Neutral  \n",
      "2                 ye zomato wale kya kar rhe the wha   Neutral  \n",
      "3     reliance jiomart is the same as well see th...   Neutral  \n",
      "4                zomato customer service is pathetic  Negative  \n"
     ]
    }
   ],
   "source": [
    "import pandas as pd\n",
    "\n",
    "df = pd.read_csv('zomato_sentiments.csv')\n",
    "print(df.head())  # View first 5 rows\n"
   ]
  },
  {
   "cell_type": "code",
   "execution_count": 29,
   "id": "049774f4-b600-4aff-944b-e61e35be36e1",
   "metadata": {},
   "outputs": [
    {
     "name": "stdout",
     "output_type": "stream",
     "text": [
      "Requirement already satisfied: nltk in c:\\users\\akhil\\anaconda3\\lib\\site-packages (3.9.1)Note: you may need to restart the kernel to use updated packages.\n",
      "\n",
      "Requirement already satisfied: click in c:\\users\\akhil\\anaconda3\\lib\\site-packages (from nltk) (8.1.7)\n",
      "Requirement already satisfied: joblib in c:\\users\\akhil\\anaconda3\\lib\\site-packages (from nltk) (1.4.2)\n",
      "Requirement already satisfied: regex>=2021.8.3 in c:\\users\\akhil\\anaconda3\\lib\\site-packages (from nltk) (2024.9.11)\n",
      "Requirement already satisfied: tqdm in c:\\users\\akhil\\anaconda3\\lib\\site-packages (from nltk) (4.66.5)\n",
      "Requirement already satisfied: colorama in c:\\users\\akhil\\anaconda3\\lib\\site-packages (from click->nltk) (0.4.6)\n"
     ]
    }
   ],
   "source": [
    "pip install nltk\n"
   ]
  },
  {
   "cell_type": "code",
   "execution_count": 31,
   "id": "002c2f21-2b7b-4300-bc9e-bfdca102f16c",
   "metadata": {},
   "outputs": [
    {
     "name": "stderr",
     "output_type": "stream",
     "text": [
      "[nltk_data] Downloading package stopwords to\n",
      "[nltk_data]     C:\\Users\\akhil\\AppData\\Roaming\\nltk_data...\n",
      "[nltk_data]   Unzipping corpora\\stopwords.zip.\n",
      "[nltk_data] Downloading package vader_lexicon to\n",
      "[nltk_data]     C:\\Users\\akhil\\AppData\\Roaming\\nltk_data...\n"
     ]
    },
    {
     "data": {
      "text/plain": [
       "True"
      ]
     },
     "execution_count": 31,
     "metadata": {},
     "output_type": "execute_result"
    }
   ],
   "source": [
    "import nltk\n",
    "from nltk.corpus import stopwords\n",
    "from nltk.sentiment import SentimentIntensityAnalyzer\n",
    "import re\n",
    "import pandas as pd\n",
    "\n",
    "nltk.download('stopwords')\n",
    "nltk.download('vader_lexicon')\n"
   ]
  },
  {
   "cell_type": "code",
   "execution_count": 33,
   "id": "4c3e6306-9d2d-4644-b792-ed26e7b7b253",
   "metadata": {},
   "outputs": [
    {
     "name": "stderr",
     "output_type": "stream",
     "text": [
      "[nltk_data] Downloading package vader_lexicon to\n",
      "[nltk_data]     C:\\Users\\akhil\\AppData\\Roaming\\nltk_data...\n",
      "[nltk_data]   Package vader_lexicon is already up-to-date!\n"
     ]
    }
   ],
   "source": [
    "from nltk.sentiment import SentimentIntensityAnalyzer\n",
    "import nltk\n",
    "nltk.download('vader_lexicon')  # (already done)\n",
    "\n",
    "# Initialize the analyzer\n",
    "sia = SentimentIntensityAnalyzer()\n",
    "\n",
    "def get_vader_sentiment(text):\n",
    "    score = sia.polarity_scores(text)['compound']\n",
    "    if score >= 0.05:\n",
    "        return 'Positive'\n",
    "    elif score <= -0.05:\n",
    "        return 'Negative'\n",
    "    else:\n",
    "        return 'Neutral'\n"
   ]
  },
  {
   "cell_type": "code",
   "execution_count": 35,
   "id": "3d965e36-88e7-4d86-908e-f349f0c3b1c5",
   "metadata": {},
   "outputs": [],
   "source": [
    "df['VADER_Sentiment'] = df['Cleaned'].apply(get_vader_sentiment)\n"
   ]
  },
  {
   "cell_type": "code",
   "execution_count": 37,
   "id": "74f86dda-9378-47bd-88d6-09aedeaf59ea",
   "metadata": {},
   "outputs": [
    {
     "name": "stdout",
     "output_type": "stream",
     "text": [
      "VADER_Sentiment  Negative  Neutral  Positive\n",
      "Sentiment                                   \n",
      "Negative              4.0      NaN       3.0\n",
      "Neutral               3.0      2.0       1.0\n",
      "Positive              3.0      1.0       3.0\n"
     ]
    }
   ],
   "source": [
    "comparison = df.groupby(['Sentiment', 'VADER_Sentiment']).size().unstack()\n",
    "print(comparison)\n"
   ]
  },
  {
   "cell_type": "code",
   "execution_count": 39,
   "id": "ee9d9693-b5cf-4f15-9e14-0e4f14ae2b77",
   "metadata": {},
   "outputs": [
    {
     "data": {
      "image/png": "[encoded data removed]",
      "text/plain": [
       "<Figure size 640x480 with 1 Axes>"
      ]
     },
     "metadata": {},
     "output_type": "display_data"
    }
   ],
   "source": [
    "import seaborn as sns\n",
    "import matplotlib.pyplot as plt\n",
    "\n",
    "sns.countplot(x='VADER_Sentiment', data=df)\n",
    "plt.title('Tweet Sentiment using VADER')\n",
    "plt.show()\n"
   ]
  },
  {
   "cell_type": "code",
   "execution_count": 41,
   "id": "162e87fd-77d1-4b71-bfa9-0efa00309d74",
   "metadata": {},
   "outputs": [
    {
     "name": "stdout",
     "output_type": "stream",
     "text": [
      "✅ File saved as zomato_sentiments_vader.csv\n"
     ]
    }
   ],
   "source": [
    "df.to_csv('zomato_sentiments_vader.csv', index=False)\n",
    "print(\"✅ File saved as zomato_sentiments_vader.csv\")\n"
   ]
  },
  {
   "cell_type": "code",
   "execution_count": 45,
   "id": "6fb2967d-2636-4f96-830a-b517e7251a26",
   "metadata": {},
   "outputs": [
    {
     "data": {
      "image/png": "[encoded data removed]",
      "text/plain": [
       "<Figure size 1000x500 with 1 Axes>"
      ]
     },
     "metadata": {},
     "output_type": "display_data"
    }
   ],
   "source": [
    "import seaborn as sns\n",
    "import matplotlib.pyplot as plt\n",
    "\n",
    "plt.figure(figsize=(10, 5))\n",
    "sns.countplot(data=df, x='Sentiment', label='TextBlob', color='skyblue')\n",
    "sns.countplot(data=df, x='VADER_Sentiment', label='VADER', color='salmon')\n",
    "plt.title('Sentiment Comparison: TextBlob vs VADER')\n",
    "plt.legend()\n",
    "plt.show()\n"
   ]
  },
  {
   "cell_type": "code",
   "execution_count": 47,
   "id": "cb5112a0-875b-4a8f-aa0f-8850aebfede6",
   "metadata": {},
   "outputs": [
    {
     "name": "stdout",
     "output_type": "stream",
     "text": [
      "                                             Original  \\\n",
      "0   When is @Swiggy and @zomato going to care that...   \n",
      "1   @zomatocare Why don't you just mention it here...   \n",
      "2   @ishanjoshii @RCBTweets Ye Zomato Wale kya kar...   \n",
      "3   @sushilkedia @Swiggy @zomato Reliance Jiomart ...   \n",
      "4   @verynecessiri @zomato @zomatocare Zomato cust...   \n",
      "5   @zomatocare hello team,\\nPeople are doing big ...   \n",
      "6   At which point will Indian customers realize t...   \n",
      "7   @zomatocare Wow 12 hours still no reply amazin...   \n",
      "8   📱✈️ Must-Have Apps Before You Travel to India!...   \n",
      "9   bro @zomato @zomatocare how messed up does you...   \n",
      "10  🔥 Paneer Tikka – A Tandoori Delight! 🔥\\nJuicy ...   \n",
      "11  @zomato I am not sure how you are calculating ...   \n",
      "12  Zomato's growth slows down! \\nNet order value ...   \n",
      "13  Everyone wants to build the next @zomato. No o...   \n",
      "14  @zomato No response from zomato support since ...   \n",
      "15  @zomatocare The experience so far has been pat...   \n",
      "16  Disappointed with @zomatocare. My order (ID: 6...   \n",
      "17  No way to connect with human executives in @zo...   \n",
      "18  My concern with order and already ticket raise...   \n",
      "19  I got a wrong items \\n\\n.kindly refund my mone...   \n",
      "\n",
      "                                              Cleaned Sentiment  \\\n",
      "0   when is  and  going to care that its not alway...  Negative   \n",
      "1    why dont you just mention it here or is there...   Neutral   \n",
      "2                  ye zomato wale kya kar rhe the wha   Neutral   \n",
      "3      reliance jiomart is the same as well see th...   Neutral   \n",
      "4                 zomato customer service is pathetic  Negative   \n",
      "5    hello teampeople are doing big scams on zomat...   Neutral   \n",
      "6   at which point will indian customers realize t...  Negative   \n",
      "7    wow 12 hours still no reply amazing work zoma...  Positive   \n",
      "8    musthave apps before you travel to india  mus...  Positive   \n",
      "9   bro   how messed up does your customer care ha...  Positive   \n",
      "10   paneer tikka  a tandoori delight juicy chunks...  Positive   \n",
      "11   i am not sure how you are calculating the gst...  Negative   \n",
      "12  zomatos growth slows down net order value nov ...  Negative   \n",
      "13  everyone wants to build the next  no one wants...  Positive   \n",
      "14   no response from zomato support since 10 days...   Neutral   \n",
      "15   the experience so far has been pathetic no re...  Negative   \n",
      "16  disappointed with  my order id 6842962169 was ...  Negative   \n",
      "17  no way to connect with human executives in  35...  Positive   \n",
      "18  my concern with order and already ticket raise...   Neutral   \n",
      "19  i got a wrong items kindly refund my money 684...  Positive   \n",
      "\n",
      "   VADER_Sentiment  \n",
      "0         Positive  \n",
      "1         Negative  \n",
      "2          Neutral  \n",
      "3         Positive  \n",
      "4         Negative  \n",
      "5         Negative  \n",
      "6         Negative  \n",
      "7         Positive  \n",
      "8         Negative  \n",
      "9         Negative  \n",
      "10        Positive  \n",
      "11        Negative  \n",
      "12        Positive  \n",
      "13        Negative  \n",
      "14        Negative  \n",
      "15        Positive  \n",
      "16        Negative  \n",
      "17        Positive  \n",
      "18         Neutral  \n",
      "19         Neutral  \n"
     ]
    }
   ],
   "source": [
    "print(df)"
   ]
  },
  {
   "cell_type": "code",
   "execution_count": 51,
   "id": "ea10acfe-7801-4778-8d1b-15f85099500e",
   "metadata": {},
   "outputs": [
    {
     "name": "stdout",
     "output_type": "stream",
     "text": [
      "Collecting emoji\n",
      "  Downloading emoji-2.14.1-py3-none-any.whl.metadata (5.7 kB)\n",
      "Downloading emoji-2.14.1-py3-none-any.whl (590 kB)\n",
      "   ---------------------------------------- 0.0/590.6 kB ? eta -:--:--\n",
      "   ---------------------------------------- 590.6/590.6 kB 7.0 MB/s eta 0:00:00\n",
      "Installing collected packages: emoji\n",
      "Successfully installed emoji-2.14.1\n"
     ]
    }
   ],
   "source": [
    "!pip install emoji\n"
   ]
  },
  {
   "cell_type": "code",
   "execution_count": 57,
   "id": "53cc4869-1340-4cd8-881f-edd815a419f5",
   "metadata": {},
   "outputs": [
    {
     "name": "stdout",
     "output_type": "stream",
     "text": [
      "                                             Original  \\\n",
      "0   When is @Swiggy and @zomato going to care that...   \n",
      "1   @zomatocare Why don't you just mention it here...   \n",
      "2   @ishanjoshii @RCBTweets Ye Zomato Wale kya kar...   \n",
      "3   @sushilkedia @Swiggy @zomato Reliance Jiomart ...   \n",
      "4   @verynecessiri @zomato @zomatocare Zomato cust...   \n",
      "5   @zomatocare hello team,\\nPeople are doing big ...   \n",
      "6   At which point will Indian customers realize t...   \n",
      "7   @zomatocare Wow 12 hours still no reply amazin...   \n",
      "8   📱✈️ Must-Have Apps Before You Travel to India!...   \n",
      "9   bro @zomato @zomatocare how messed up does you...   \n",
      "10  🔥 Paneer Tikka – A Tandoori Delight! 🔥\\nJuicy ...   \n",
      "11  @zomato I am not sure how you are calculating ...   \n",
      "12  Zomato's growth slows down! \\nNet order value ...   \n",
      "13  Everyone wants to build the next @zomato. No o...   \n",
      "14  @zomato No response from zomato support since ...   \n",
      "15  @zomatocare The experience so far has been pat...   \n",
      "16  Disappointed with @zomatocare. My order (ID: 6...   \n",
      "17  No way to connect with human executives in @zo...   \n",
      "18  My concern with order and already ticket raise...   \n",
      "19  I got a wrong items \\n\\n.kindly refund my mone...   \n",
      "\n",
      "                                              Cleaned Sentiment  \\\n",
      "0   when is  and  going to care that its not alway...  Negative   \n",
      "1    why dont you just mention it here or is there...   Neutral   \n",
      "2                  ye zomato wale kya kar rhe the wha   Neutral   \n",
      "3      reliance jiomart is the same as well see th...   Neutral   \n",
      "4                 zomato customer service is pathetic  Negative   \n",
      "5    hello teampeople are doing big scams on zomat...   Neutral   \n",
      "6   at which point will indian customers realize t...  Negative   \n",
      "7    wow 12 hours still no reply amazing work zoma...  Positive   \n",
      "8    musthave apps before you travel to india  mus...  Positive   \n",
      "9   bro   how messed up does your customer care ha...  Positive   \n",
      "10   paneer tikka  a tandoori delight juicy chunks...  Positive   \n",
      "11   i am not sure how you are calculating the gst...  Negative   \n",
      "12  zomatos growth slows down net order value nov ...  Negative   \n",
      "13  everyone wants to build the next  no one wants...  Positive   \n",
      "14   no response from zomato support since 10 days...   Neutral   \n",
      "15   the experience so far has been pathetic no re...  Negative   \n",
      "16  disappointed with  my order id 6842962169 was ...  Negative   \n",
      "17  no way to connect with human executives in  35...  Positive   \n",
      "18  my concern with order and already ticket raise...   Neutral   \n",
      "19  i got a wrong items kindly refund my money 684...  Positive   \n",
      "\n",
      "   VADER_Sentiment  Tweet_Length  Word_Count  Emoji_Count  \n",
      "0         Positive           197          34            1  \n",
      "1         Negative            96          18            0  \n",
      "2          Neutral            58          10            0  \n",
      "3         Positive           110          15            0  \n",
      "4         Negative            70           8            0  \n",
      "5         Negative            87          16            0  \n",
      "6         Negative           278          47            0  \n",
      "7         Positive            68          11            2  \n",
      "8         Negative           291          55           10  \n",
      "9         Negative           260          52            1  \n",
      "10        Positive           266          45            7  \n",
      "11        Negative           303          55            0  \n",
      "12        Positive           280          45            0  \n",
      "13        Negative           200          31            0  \n",
      "14        Negative           118          16            0  \n",
      "15        Positive           232          39            0  \n",
      "16        Negative           217          33            0  \n",
      "17        Positive           250          41            0  \n",
      "18         Neutral           133          22            0  \n",
      "19         Neutral            79          12            0  \n"
     ]
    }
   ],
   "source": [
    "import pandas as pd\n",
    "import emoji\n",
    "\n",
    "\n",
    "df['Tweet_Length'] = df['Original'].apply(len)\n",
    "df['Word_Count'] = df['Original'].apply(lambda x: len(x.split()))\n",
    "df['Emoji_Count'] = df['Original'].apply(lambda x: len([c for c in x if c in emoji.EMOJI_DATA]))\n",
    "print(df)"
   ]
  },
  {
   "cell_type": "code",
   "execution_count": 65,
   "id": "409fb6bf-8e18-47f1-940b-24afcae397e6",
   "metadata": {},
   "outputs": [
    {
     "name": "stdout",
     "output_type": "stream",
     "text": [
      "✅ File saved as zomato_twitter_data.csv\n"
     ]
    }
   ],
   "source": [
    "df.to_csv('zomato_twitter_data.csv', index=False)\n",
    "print(\"✅ File saved as zomato_twitter_data.csv\")"
   ]
  },
  {
   "cell_type": "code",
   "execution_count": null,
   "id": "5ab586dd-3660-4b1f-9069-ec9befc2c3a0",
   "metadata": {},
   "outputs": [],
   "source": []
  }
 ],
 "metadata": {
  "kernelspec": {
   "display_name": "Python [conda env:base] *",
   "language": "python",
   "name": "conda-base-py"
  },
  "language_info": {
   "codemirror_mode": {
    "name": "ipython",
    "version": 3
   },
   "file_extension": ".py",
   "mimetype": "text/x-python",
   "name": "python",
   "nbconvert_exporter": "python",
   "pygments_lexer": "ipython3",
   "version": "3.12.7"
  }
 },
 "nbformat": 4,
 "nbformat_minor": 5
}
